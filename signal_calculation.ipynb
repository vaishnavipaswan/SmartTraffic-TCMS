{
 "cells": [
  {
   "cell_type": "code",
   "execution_count": 3,
   "id": "ee45bcee-d184-46fe-a06f-0ab4e2af08eb",
   "metadata": {},
   "outputs": [
    {
     "name": "stderr",
     "output_type": "stream",
     "text": [
      "Using cache found in C:\\Users\\vaish/.cache\\torch\\hub\\ultralytics_yolov5_master\n",
      "YOLOv5  2024-10-21 Python-3.12.4 torch-2.5.0+cpu CPU\n",
      "\n",
      "Fusing layers... \n",
      "YOLOv5s summary: 213 layers, 7225885 parameters, 0 gradients, 16.4 GFLOPs\n",
      "Adding AutoShape... \n",
      "C:\\Users\\vaish/.cache\\torch\\hub\\ultralytics_yolov5_master\\models\\common.py:892: FutureWarning: `torch.cuda.amp.autocast(args...)` is deprecated. Please use `torch.amp.autocast('cuda', args...)` instead.\n",
      "  with amp.autocast(autocast):\n"
     ]
    },
    {
     "name": "stdout",
     "output_type": "stream",
     "text": [
      "\n",
      "Processing Lane 1 Detection...\n",
      "Starting YOLOv5 detection...\n",
      "Detected vehicles: {'motorcycle': 1, 'bicycle': 0, 'bus': 2, 'truck': 10, 'car': 17}\n",
      "Calculated green signal time for Lane 1: 22 seconds\n",
      "\n",
      "Initial Signal Timings for Lane 1:\n",
      "Red: 0 seconds\n",
      "Green: 22 seconds\n",
      "Yellow: 5 seconds\n",
      "\n",
      "\n",
      "Processing Lane 2 Detection...\n",
      "Starting YOLOv5 detection...\n"
     ]
    },
    {
     "name": "stderr",
     "output_type": "stream",
     "text": [
      "C:\\Users\\vaish/.cache\\torch\\hub\\ultralytics_yolov5_master\\models\\common.py:892: FutureWarning: `torch.cuda.amp.autocast(args...)` is deprecated. Please use `torch.amp.autocast('cuda', args...)` instead.\n",
      "  with amp.autocast(autocast):\n"
     ]
    },
    {
     "name": "stdout",
     "output_type": "stream",
     "text": [
      "Detected vehicles: {'motorcycle': 4, 'bicycle': 1, 'bus': 1, 'truck': 1, 'car': 4}\n",
      "Calculated green signal time for Lane 2: 10 seconds\n",
      "\n",
      "Initial Signal Timings for Lane 2:\n",
      "Red: 27 seconds\n",
      "Green: 10 seconds\n",
      "Yellow: 5 seconds\n",
      "\n",
      "\n",
      "Processing Lane 3 Detection...\n",
      "Starting YOLOv5 detection...\n"
     ]
    },
    {
     "name": "stderr",
     "output_type": "stream",
     "text": [
      "C:\\Users\\vaish/.cache\\torch\\hub\\ultralytics_yolov5_master\\models\\common.py:892: FutureWarning: `torch.cuda.amp.autocast(args...)` is deprecated. Please use `torch.amp.autocast('cuda', args...)` instead.\n",
      "  with amp.autocast(autocast):\n"
     ]
    },
    {
     "name": "stdout",
     "output_type": "stream",
     "text": [
      "Detected vehicles: {'motorcycle': 1, 'bicycle': 0, 'bus': 5, 'truck': 0, 'car': 26}\n",
      "Calculated green signal time for Lane 3: 22 seconds\n",
      "\n",
      "Initial Signal Timings for Lane 3:\n",
      "Red: 42 seconds\n",
      "Green: 22 seconds\n",
      "Yellow: 5 seconds\n",
      "\n",
      "\n",
      "Processing Lane 4 Detection...\n",
      "Starting YOLOv5 detection...\n"
     ]
    },
    {
     "name": "stderr",
     "output_type": "stream",
     "text": [
      "C:\\Users\\vaish/.cache\\torch\\hub\\ultralytics_yolov5_master\\models\\common.py:892: FutureWarning: `torch.cuda.amp.autocast(args...)` is deprecated. Please use `torch.amp.autocast('cuda', args...)` instead.\n",
      "  with amp.autocast(autocast):\n"
     ]
    },
    {
     "name": "stdout",
     "output_type": "stream",
     "text": [
      "Detected vehicles: {'motorcycle': 4, 'bicycle': 0, 'bus': 2, 'truck': 5, 'car': 22}\n",
      "Calculated green signal time for Lane 4: 23 seconds\n",
      "\n",
      "Initial Signal Timings for Lane 4:\n",
      "Red: 69 seconds\n",
      "Green: 23 seconds\n",
      "Yellow: 5 seconds\n",
      "\n",
      "\n",
      "Processing Lane 5 Detection...\n",
      "Starting YOLOv5 detection...\n"
     ]
    },
    {
     "name": "stderr",
     "output_type": "stream",
     "text": [
      "C:\\Users\\vaish/.cache\\torch\\hub\\ultralytics_yolov5_master\\models\\common.py:892: FutureWarning: `torch.cuda.amp.autocast(args...)` is deprecated. Please use `torch.amp.autocast('cuda', args...)` instead.\n",
      "  with amp.autocast(autocast):\n"
     ]
    },
    {
     "name": "stdout",
     "output_type": "stream",
     "text": [
      "Detected vehicles: {'motorcycle': 7, 'bicycle': 0, 'bus': 0, 'truck': 8, 'car': 8}\n",
      "Calculated green signal time for Lane 5: 16 seconds\n",
      "\n",
      "Initial Signal Timings for Lane 5:\n",
      "Red: 97 seconds\n",
      "Green: 16 seconds\n",
      "Yellow: 5 seconds\n",
      "\n",
      "\n",
      "Processing Lane 6 Detection...\n",
      "Starting YOLOv5 detection...\n"
     ]
    },
    {
     "name": "stderr",
     "output_type": "stream",
     "text": [
      "C:\\Users\\vaish/.cache\\torch\\hub\\ultralytics_yolov5_master\\models\\common.py:892: FutureWarning: `torch.cuda.amp.autocast(args...)` is deprecated. Please use `torch.amp.autocast('cuda', args...)` instead.\n",
      "  with amp.autocast(autocast):\n"
     ]
    },
    {
     "name": "stdout",
     "output_type": "stream",
     "text": [
      "Detected vehicles: {'motorcycle': 1, 'bicycle': 1, 'bus': 6, 'truck': 13, 'car': 14}\n",
      "Calculated green signal time for Lane 6: 26 seconds\n",
      "\n",
      "Initial Signal Timings for Lane 6:\n",
      "Red: 118 seconds\n",
      "Green: 26 seconds\n",
      "Yellow: 5 seconds\n",
      "\n",
      "\n",
      "Processing Lane 7 Detection...\n",
      "Starting YOLOv5 detection...\n"
     ]
    },
    {
     "name": "stderr",
     "output_type": "stream",
     "text": [
      "C:\\Users\\vaish/.cache\\torch\\hub\\ultralytics_yolov5_master\\models\\common.py:892: FutureWarning: `torch.cuda.amp.autocast(args...)` is deprecated. Please use `torch.amp.autocast('cuda', args...)` instead.\n",
      "  with amp.autocast(autocast):\n"
     ]
    },
    {
     "name": "stdout",
     "output_type": "stream",
     "text": [
      "Detected vehicles: {'motorcycle': 4, 'bicycle': 1, 'bus': 6, 'truck': 1, 'car': 10}\n",
      "Calculated green signal time for Lane 7: 15 seconds\n",
      "\n",
      "Initial Signal Timings for Lane 7:\n",
      "Red: 149 seconds\n",
      "Green: 15 seconds\n",
      "Yellow: 5 seconds\n",
      "\n",
      "\n",
      "Processing Lane 8 Detection...\n",
      "Starting YOLOv5 detection...\n"
     ]
    },
    {
     "name": "stderr",
     "output_type": "stream",
     "text": [
      "C:\\Users\\vaish/.cache\\torch\\hub\\ultralytics_yolov5_master\\models\\common.py:892: FutureWarning: `torch.cuda.amp.autocast(args...)` is deprecated. Please use `torch.amp.autocast('cuda', args...)` instead.\n",
      "  with amp.autocast(autocast):\n"
     ]
    },
    {
     "name": "stdout",
     "output_type": "stream",
     "text": [
      "Detected vehicles: {'motorcycle': 1, 'bicycle': 0, 'bus': 3, 'truck': 7, 'car': 20}\n",
      "Calculated green signal time for Lane 8: 23 seconds\n",
      "\n",
      "Initial Signal Timings for Lane 8:\n",
      "Red: 169 seconds\n",
      "Green: 23 seconds\n",
      "Yellow: 5 seconds\n",
      "\n",
      "\n",
      "Final Signal Timings for Each Lane After Detection and Calculation:\n",
      "Lane 1: Red = 0s, Green = 22s, Yellow = 5s\n",
      "Lane 2: Red = 27s, Green = 10s, Yellow = 5s\n",
      "Lane 3: Red = 42s, Green = 22s, Yellow = 5s\n",
      "Lane 4: Red = 69s, Green = 23s, Yellow = 5s\n",
      "Lane 5: Red = 97s, Green = 16s, Yellow = 5s\n",
      "Lane 6: Red = 118s, Green = 26s, Yellow = 5s\n",
      "Lane 7: Red = 149s, Green = 15s, Yellow = 5s\n",
      "Lane 8: Red = 169s, Green = 23s, Yellow = 5s\n",
      "\n",
      "\n"
     ]
    }
   ],
   "source": [
    "import os\n",
    "import math\n",
    "import time\n",
    "import cv2\n",
    "import torch\n",
    "\n",
    "# Initialize YOLOv5 model\n",
    "model = torch.hub.load('ultralytics/yolov5', 'yolov5s')\n",
    "inputPath = os.getcwd() + \"/test_images/\"\n",
    "outputPath = os.getcwd() + \"/output_images/\"\n",
    "os.makedirs(outputPath, exist_ok=True)  # Ensure output directory exists\n",
    "defaultGreen = 20\n",
    "defaultYellow = 5\n",
    "defaultMinimum = 10\n",
    "defaultMaximum = 60\n",
    "\n",
    "# Average times for vehicles to pass the intersection\n",
    "carTime = 2\n",
    "busTime = 2.5\n",
    "truckTime = 2.5\n",
    "motorcycleTime = 1.5\n",
    "bicycleTime = 1\n",
    "noOfLanes = 2\n",
    "#signals = []\n",
    "\n",
    "# Define vehicle classes to detect\n",
    "allowed_classes = {\"car\", \"bus\", \"motorcycle\", \"truck\", \"bicycle\"}\n",
    "\n",
    "def detectVehicles(filename):\n",
    "    \"\"\"Detect specified vehicle types in the image, save output, and return vehicle counts.\"\"\"\n",
    "    vehicle_counts = {vehicle: 0 for vehicle in allowed_classes}\n",
    "    img = cv2.imread(inputPath + filename, cv2.IMREAD_COLOR)\n",
    "    results = model(inputPath + filename)\n",
    "    \n",
    "    # Extract vehicle details and count only allowed types\n",
    "    result_labels = results.pandas().xyxy[0]\n",
    "    for _, vehicle in result_labels.iterrows():\n",
    "        label = vehicle['name']\n",
    "        if label in allowed_classes:\n",
    "            vehicle_counts[label] += 1\n",
    "\n",
    "            # Draw bounding boxes only for specified vehicles\n",
    "            x_min, y_min, x_max, y_max = int(vehicle['xmin']), int(vehicle['ymin']), int(vehicle['xmax']), int(vehicle['ymax'])\n",
    "            cv2.rectangle(img, (x_min, y_min), (x_max, y_max), (0, 255, 0), 2)\n",
    "            cv2.putText(img, label, (x_min, y_min - 10), cv2.FONT_HERSHEY_SIMPLEX, 0.6, (0, 255, 0), 2)\n",
    "\n",
    "    # Save the image with detected objects to the output folder\n",
    "    output_file = os.path.join(outputPath, filename)\n",
    "    cv2.imwrite(output_file, img)\n",
    "    \n",
    "    return vehicle_counts\n",
    "\n",
    "def calculateGreenTime(vehicle_counts):\n",
    "    \"\"\"Calculate green time based on vehicle counts.\"\"\"\n",
    "    noOfCars = vehicle_counts.get(\"car\", 0)\n",
    "    noOfMotorcycle = vehicle_counts.get(\"motorcycle\", 0)\n",
    "    noOfBicycle = vehicle_counts.get(\"bicycle\", 0)\n",
    "    noOfBuses = vehicle_counts.get(\"bus\", 0)\n",
    "    noOfTrucks = vehicle_counts.get(\"truck\", 0)\n",
    "\n",
    "    # Calculate green signal time\n",
    "    greenTime = math.ceil(((noOfCars * carTime) + (noOfBicycle * bicycleTime) +\n",
    "                           (noOfBuses * busTime) + (noOfTrucks * truckTime) +\n",
    "                           (noOfMotorcycle * motorcycleTime)) / (noOfLanes + 1))\n",
    "    return max(min(greenTime, defaultMaximum), defaultMinimum)\n",
    "\n",
    "def calculateRedTime(current_lane_green, all_green_times):\n",
    "    \"\"\"Calculate red time for a lane based on the green times of other lanes.\"\"\"\n",
    "    return sum(all_green_times) - current_lane_green + (defaultYellow * (len(all_green_times) - 1))\n",
    "\n",
    "def processLanes():\n",
    "    \"\"\"Process each lane and calculate signal timings.\"\"\"\n",
    "    image_files = sorted([f for f in os.listdir(inputPath) if f.endswith((\".jpg\", \".jpeg\"))])\n",
    "    signal_times = []\n",
    "\n",
    "    all_green_times = []  # To store green times for each lane\n",
    "\n",
    "    for i, image_file in enumerate(image_files):\n",
    "        print(f\"\\nProcessing Lane {i+1} Detection...\")\n",
    "        print(\"Starting YOLOv5 detection...\")\n",
    "        \n",
    "        # Step 1: Vehicle detection\n",
    "        vehicle_counts = detectVehicles(image_file)\n",
    "        print(f\"Detected vehicles: {vehicle_counts}\")\n",
    "        \n",
    "        # Step 2: Calculate green signal time\n",
    "        green_time = calculateGreenTime(vehicle_counts)\n",
    "        all_green_times.append(green_time)\n",
    "        \n",
    "        print(f\"Calculated green signal time for Lane {i+1}: {green_time} seconds\")\n",
    "\n",
    "        # Display initial signal timings\n",
    "        red_time = calculateRedTime(green_time, all_green_times)\n",
    "        print(f\"\\nInitial Signal Timings for Lane {i+1}:\")\n",
    "        print(f\"Red: {red_time} seconds\")\n",
    "        print(f\"Green: {green_time} seconds\")\n",
    "        print(f\"Yellow: {defaultYellow} seconds\\n\")\n",
    "        \n",
    "        # Store the times for each lane in a tuple format (red, green, yellow)\n",
    "        signal_times.append((red_time, green_time, defaultYellow))\n",
    "\n",
    "        # Simulate delay\n",
    "        time.sleep(1)\n",
    "\n",
    "    # Final timings for each lane after all lanes are processed\n",
    "    print(\"\\nFinal Signal Timings for Each Lane After Detection and Calculation:\")\n",
    "    for idx, times in enumerate(signal_times, 1):\n",
    "        print(f\"Lane {idx}: Red = {times[0]}s, Green = {times[1]}s, Yellow = {times[2]}s\")\n",
    "\n",
    "    # Save green signal times \n",
    "    with open(\"signal_times.txt\", \"w\") as f:\n",
    "        for times in signal_times:\n",
    "            f.write(f\"{times[1]}\\n\")  # Only write green time \n",
    "\n",
    "if __name__ == \"__main__\":\n",
    "    # Process lanes and output signal timings\n",
    "    processLanes()\n",
    "\n",
    "print(\"\\n\")"
   ]
  },
  {
   "cell_type": "code",
   "execution_count": null,
   "id": "7b9f005e-9279-4871-a993-426b5094e677",
   "metadata": {},
   "outputs": [],
   "source": []
  },
  {
   "cell_type": "code",
   "execution_count": null,
   "id": "84b31364-5094-4d5f-b61d-f5b9e818550d",
   "metadata": {},
   "outputs": [],
   "source": []
  }
 ],
 "metadata": {
  "kernelspec": {
   "display_name": "Python 3 (ipykernel)",
   "language": "python",
   "name": "python3"
  },
  "language_info": {
   "codemirror_mode": {
    "name": "ipython",
    "version": 3
   },
   "file_extension": ".py",
   "mimetype": "text/x-python",
   "name": "python",
   "nbconvert_exporter": "python",
   "pygments_lexer": "ipython3",
   "version": "3.12.4"
  }
 },
 "nbformat": 4,
 "nbformat_minor": 5
}
